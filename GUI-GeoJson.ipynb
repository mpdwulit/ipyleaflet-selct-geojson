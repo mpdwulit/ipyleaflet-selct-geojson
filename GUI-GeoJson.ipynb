{
 "cells": [
  {
   "cell_type": "code",
   "execution_count": null,
   "metadata": {
    "extensions": {
     "jupyter_dashboards": {
      "version": 1,
      "views": {
       "grid_default": {},
       "report_default": {}
      }
     }
    }
   },
   "outputs": [],
   "source": [
    "from ipywidgets import Layout, HBox, VBox, FloatText\n",
    "import copy\n",
    "import json\n",
    "import pygeohash as gh\n",
    "from ipyleaflet import (\n",
    "    Map, basemaps, TileLayer, SplitMapControl, GeoJSON, Polygon, DrawControl, LayersControl, Layer, LayerGroup\n",
    ")"
   ]
  },
  {
   "cell_type": "code",
   "execution_count": null,
   "metadata": {
    "extensions": {
     "jupyter_dashboards": {
      "version": 1,
      "views": {
       "grid_default": {},
       "report_default": {}
      }
     }
    },
    "scrolled": false
   },
   "outputs": [],
   "source": [
    "m = Map(center=[53.88, 27.45], zoom=3)\n",
    "\n",
    "# geojson layer with hover handler\n",
    "with open('./europe_110.geo.json') as f:\n",
    "    data = json.load(f)\n",
    "\n",
    "def decorate_geojson_for_display(data):\n",
    "    disp_data = copy.deepcopy(data)\n",
    "    for feature in disp_data['features']:\n",
    "        feature['properties']['style'] = {\n",
    "            'color': 'grey',\n",
    "            'weight': 1,\n",
    "            'fillColor': 'grey',\n",
    "            'fillOpacity': 0.2\n",
    "        }\n",
    "        feature_id = feature['properties']['iso_a3']\n",
    "    return disp_data\n",
    "        \n",
    "def create_lookup_dictionary_id_geometry(data):\n",
    "    geometry_dict = {}\n",
    "    for feature in data['features']:\n",
    "        feature_id = feature['properties']['iso_a3']\n",
    "        geometry_dict[feature_id] = feature['geometry']\n",
    "    return geometry_dict\n",
    "\n",
    "        \n",
    "def click_handler_selected(event=None, properties=None, id=None, **args):\n",
    "    print('Selected: '  + str(event))\n",
    "\n",
    "def click_handler_geojson(event=None, properties=None, id=None, **args):\n",
    "    print('GeoJSON: '  + str(event))\n",
    "    global lookup_dict\n",
    "    global selected_dict\n",
    "    global selected_layer\n",
    "    global layer_geojson\n",
    "    if properties is not None:\n",
    "        feature_id = properties['iso_a3']\n",
    "        if lookup_dict[feature_id]['type'] == 'Polygon':\n",
    "            if feature_id in selected_dict:\n",
    "                rem_polygon = selected_dict.pop(feature_id)\n",
    "                selected_layer.remove_layer(rem_polygon)\n",
    "            else:\n",
    "                feature = lookup_dict[feature_id]\n",
    "                polygon = Polygon(locations=[[p[1], p[0]] for p in feature['coordinates'][0]], color='yellow', fillColor='yellow')\n",
    "                selected_dict[feature_id] = polygon\n",
    "                selected_layer.add_layer(polygon)\n",
    "    if len(args.keys()) > 0:\n",
    "        lat = args['coordinates'][0]\n",
    "        lon = args['coordinates'][1]\n",
    "\n",
    "def print_anything(event=None, properties=None, id=None):\n",
    "    print(\"Anything\")\n",
    "        \n",
    "disp_data = decorate_geojson_for_display(data)\n",
    "lookup_dict = create_lookup_dictionary_id_geometry(disp_data)\n",
    "selected_dict = {}\n",
    "\n",
    "layer_geojson = GeoJSON(data=disp_data, hover_style={'fillColor': 'red'}, name='GeoJson')\n",
    "m.add_layer(layer_geojson)\n",
    "layer_geojson.on_click(click_handler_geojson)\n",
    "\n",
    "selected_layer = LayerGroup(name='Selected')\n",
    "selected_layer.on_click(print_anything)\n",
    "m.add_layer(selected_layer)\n",
    "\n",
    "m.add_control(DrawControl())\n",
    "lc = LayersControl()\n",
    "m.add_control(lc)\n",
    "m"
   ]
  },
  {
   "cell_type": "code",
   "execution_count": null,
   "metadata": {},
   "outputs": [],
   "source": [
    "\n",
    "layer_geojson.send({'msg':'change:style'})"
   ]
  },
  {
   "cell_type": "code",
   "execution_count": null,
   "metadata": {
    "extensions": {
     "jupyter_dashboards": {
      "version": 1,
      "views": {
       "grid_default": {},
       "report_default": {}
      }
     }
    }
   },
   "outputs": [],
   "source": [
    "help(layer_geojson.send)"
   ]
  },
  {
   "cell_type": "code",
   "execution_count": null,
   "metadata": {},
   "outputs": [],
   "source": []
  }
 ],
 "metadata": {
  "extensions": {
   "jupyter_dashboards": {
    "activeView": "grid_default",
    "version": 1,
    "views": {
     "grid_default": {
      "cellMargin": 10,
      "defaultCellHeight": 20,
      "maxColumns": 12,
      "name": "grid",
      "type": "grid"
     },
     "report_default": {
      "name": "report",
      "type": "report"
     }
    }
   }
  },
  "kernelspec": {
   "display_name": "Python 3",
   "language": "python",
   "name": "python3"
  },
  "language_info": {
   "codemirror_mode": {
    "name": "ipython",
    "version": 3
   },
   "file_extension": ".py",
   "mimetype": "text/x-python",
   "name": "python",
   "nbconvert_exporter": "python",
   "pygments_lexer": "ipython3",
   "version": "3.7.3"
  }
 },
 "nbformat": 4,
 "nbformat_minor": 2
}
