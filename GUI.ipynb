{
 "cells": [
  {
   "cell_type": "code",
   "execution_count": 29,
   "metadata": {
    "extensions": {
     "jupyter_dashboards": {
      "version": 1,
      "views": {
       "grid_default": {},
       "report_default": {}
      }
     }
    }
   },
   "outputs": [],
   "source": [
    "import ipyleaflet as ipyl\n",
    "import ipywidgets as ipyw\n",
    "import json\n",
    "import pygeohash as gh\n",
    "from ipyleaflet import (\n",
    "    Map, TileLayer, SplitMapControl\n",
    ")"
   ]
  },
  {
   "cell_type": "code",
   "execution_count": 131,
   "metadata": {
    "extensions": {
     "jupyter_dashboards": {
      "version": 1,
      "views": {
       "grid_default": {},
       "report_default": {}
      }
     }
    }
   },
   "outputs": [],
   "source": [
    "map_l = ipyl.Map(center=[53.88, 27.45], zoom=0)\n",
    "map_r = ipyl.Map(center=[53.88, 27.45], zoom=0)\n",
    "\n",
    "# geojson layer with hover handler\n",
    "with open('./europe_110.geo.json') as f:\n",
    "    data = json.load(f)\n",
    "for feature in data['features']:\n",
    "    feature['properties']['style'] = {\n",
    "        'color': 'grey',\n",
    "        'weight': 1,\n",
    "        'fillColor': 'grey',\n",
    "        'fillOpacity': 0.2\n",
    "    }\n",
    "    feature['properties']['geometry'] = feature['geometry']\n",
    "    \n",
    "layer = ipyl.GeoJSON(data=data, hover_style={'fillColor': 'red'})\n",
    "\n",
    "count = 0    \n",
    "\n",
    "def click_handler(event=None, properties=None, id=None, **args):\n",
    "    if properties is not None:\n",
    "        geometry = properties['geometry']\n",
    "        if geometry['type'] == 'Polygon':\n",
    "            polygon = ipyl.Polygon(locations=[[p[1], p[0]] for p in geometry['coordinates'][0]], color='yellow', fillColor='yellow')\n",
    "            map_l.add_layer(polygon)\n",
    "    if len(args.keys()) > 0:\n",
    "        lat = args['coordinates'][0]\n",
    "        lon = args['coordinates'][1]\n",
    "    \n",
    "layer.on_click(click_handler)\n",
    "map_l.add_layer(layer)\n",
    "left = TileLayer(url='https://cartodb-basemaps-{s}.global.ssl.fastly.net/light_all/{z}/{x}/{y}.png')\n",
    "right = TileLayer(url='https://cartodb-basemaps-{s}.global.ssl.fastly.net/dark_all/{z}/{x}/{y}.png')\n",
    "\n",
    "# Create a callback for when the center of the map has changed\n",
    "def map_l_on_center_change(change):\n",
    "    new_left_center = change['new']\n",
    "    map_r.center = new_left_center\n",
    "\n",
    "    # Create a callback for when the center of the map has changed\n",
    "def map_l_on_zoom_change(zoom):\n",
    "    new_left_zoom = zoom['new']\n",
    "    map_r.zoom = new_left_zoom\n",
    "    \n",
    "map_l.observe(map_l_on_center_change, names='center')\n",
    "map_l.observe(map_l_on_zoom_change, names='zoom')\n",
    "\n",
    "draw_control = ipyl.DrawControl()\n",
    "map_r.add_control(draw_control)\n",
    "map_r.add_control(ipyl.LayersControl())"
   ]
  },
  {
   "cell_type": "code",
   "execution_count": 132,
   "metadata": {
    "extensions": {
     "jupyter_dashboards": {
      "version": 1,
      "views": {
       "grid_default": {},
       "report_default": {}
      }
     }
    },
    "scrolled": false
   },
   "outputs": [
    {
     "data": {
      "application/vnd.jupyter.widget-view+json": {
       "model_id": "0bfd1ed247eb4a06837d64f1a217346e",
       "version_major": 2,
       "version_minor": 0
      },
      "text/plain": [
       "VBox(children=(Map(basemap={'url': 'https://{s}.tile.openstreetmap.org/{z}/{x}/{y}.png', 'max_zoom': 19, 'attr…"
      ]
     },
     "metadata": {},
     "output_type": "display_data"
    }
   ],
   "source": [
    "\n",
    "ipyw.VBox([map_l, map_r])"
   ]
  },
  {
   "cell_type": "code",
   "execution_count": null,
   "metadata": {
    "extensions": {
     "jupyter_dashboards": {
      "version": 1,
      "views": {
       "grid_default": {},
       "report_default": {}
      }
     }
    }
   },
   "outputs": [],
   "source": []
  },
  {
   "cell_type": "code",
   "execution_count": null,
   "metadata": {},
   "outputs": [],
   "source": []
  }
 ],
 "metadata": {
  "extensions": {
   "jupyter_dashboards": {
    "activeView": "grid_default",
    "version": 1,
    "views": {
     "grid_default": {
      "cellMargin": 10,
      "defaultCellHeight": 20,
      "maxColumns": 12,
      "name": "grid",
      "type": "grid"
     },
     "report_default": {
      "name": "report",
      "type": "report"
     }
    }
   }
  },
  "kernelspec": {
   "display_name": "Python 3",
   "language": "python",
   "name": "python3"
  },
  "language_info": {
   "codemirror_mode": {
    "name": "ipython",
    "version": 3
   },
   "file_extension": ".py",
   "mimetype": "text/x-python",
   "name": "python",
   "nbconvert_exporter": "python",
   "pygments_lexer": "ipython3",
   "version": "3.7.3"
  }
 },
 "nbformat": 4,
 "nbformat_minor": 2
}
